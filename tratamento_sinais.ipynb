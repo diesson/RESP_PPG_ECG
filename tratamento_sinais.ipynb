{
 "cells": [
  {
   "cell_type": "code",
   "execution_count": 1,
   "metadata": {},
   "outputs": [],
   "source": [
    "%matplotlib qt\n",
    "%run funcoes.py\n",
    "#%run abre_arq.py"
   ]
  },
  {
   "cell_type": "code",
   "execution_count": 2,
   "metadata": {},
   "outputs": [],
   "source": [
    "lista = lista_arquivos(diretorio='./', tipo=\".bin\")\n",
    "dados = np.array( abrir_bin(lista, len(lista)) )*(2.5/4095)\n",
    "\n",
    "# print(lista)\n",
    "resp_full = dados[0]\n",
    "ecg_full = dados[1]\n",
    "ppg_full = dados[2]\n",
    "\n",
    "fa_resp = 250\n",
    "fa_ecg = 1000\n",
    "fa_ppg = 250\n",
    "\n",
    "resp_full_x = np.linspace(0, (resp_full.size/fa_resp), resp_full.size)\n",
    "ecg_full_x = np.linspace(0, (ecg_full.size/fa_ecg), ecg_full.size)\n",
    "ppg_full_x = np.linspace(0, (ppg_full.size/fa_ppg), ppg_full.size)\n",
    "\n",
    "#fig, ax0 = plt.subplots(1, 1)\n",
    "#ax0.plot(ecg_full_x, ecg_full)\n",
    "#ax0.plot(resp_full_x, resp_full)"
   ]
  },
  {
   "cell_type": "code",
   "execution_count": 3,
   "metadata": {},
   "outputs": [],
   "source": [
    "resp_full_ = filtro_sinal(resp_full, 5, 15, fa_resp, ordem = 1, rp = 0.5)\n",
    "ecg_full_  = filtro_sinal(ecg_full, 5, 15, fa_ecg, ordem = 1, rp = 0.5)\n",
    "ppg_full_  = filtro_sinal(ppg_full, 5, 15, fa_ppg, ordem = 1, rp = 0.5)"
   ]
  },
  {
   "cell_type": "code",
   "execution_count": 4,
   "metadata": {},
   "outputs": [],
   "source": [
    "# Divisao dos sinais\n",
    "\n",
    "resp_BB = resp_full[0:90000]             #% 6 min Broad Band\n",
    "resp_BB_x = resp_full_x[0:90000]\n",
    "resp_Fix = resp_full[90001:150000]       #% 4 min Fix\n",
    "resp_Fix_x = resp_full_x[90001:150000]\n",
    "resp_pe_BB = resp_full[225001:315000]    #% Apos 5 min para equilibrio hemodin?mico, 6 min BB\n",
    "resp_pe_BB_x = resp_full_x[225001:315000]\n",
    "resp_pe_Fix = resp_full[315001:]         #% 4 min Fix\n",
    "resp_pe_Fix_x = resp_full_x[315001:]\n",
    "\n",
    "ecg_BB = ecg_full[0:360000]             #% 6 min Broad Band\n",
    "ecg_BB_x = ecg_full_x[0:360000]\n",
    "ecg_Fix = ecg_full[360000:600000]       #% 4 min Fix\n",
    "ecg_Fix_x = ecg_full_x[360000:600000]\n",
    "ecg_pe_BB = ecg_full[900000:1260000]    #% Apos 5 min para equilibrio hemodin?mico, 6 min BB\n",
    "ecg_pe_BB_x = ecg_full_x[900000:1260000]\n",
    "ecg_pe_Fix = ecg_full[1260000:]         #% 4 min Fix\n",
    "ecg_pe_Fix_x = ecg_full_x[1260000:]\n",
    "\n",
    "ppg_BB = ppg_full[0:90000]             #% 6 min Broad Band\n",
    "ppg_BB_x = ppg_full_x[0:90000]\n",
    "ppg_Fix = ppg_full[90001:150000]       #% 4 min Fix\n",
    "ppg_Fix_x = ppg_full_x[90001:150000]\n",
    "ppg_pe_BB = ppg_full[225001:315000]    #% Apos 5 min para equilibrio hemodin?mico, 6 min BB\n",
    "ppg_pe_BB_x = ppg_full_x[225001:315000]\n",
    "ppg_pe_Fix = ppg_full[315001:]         #% 4 min Fix\n",
    "ppg_pe_Fix_x = ppg_full_x[315001:]"
   ]
  },
  {
   "cell_type": "code",
   "execution_count": 5,
   "metadata": {},
   "outputs": [
    {
     "data": {
      "text/plain": [
       "[<matplotlib.lines.Line2D at 0x7eff1b5a1350>]"
      ]
     },
     "execution_count": 5,
     "metadata": {},
     "output_type": "execute_result"
    }
   ],
   "source": [
    "# Deteccao de picos\n",
    "\n",
    "resp_BB_pk     = sinal_picos( resp_full[0:90000], prominence=0.5 )             #% 6 min Broad Band\n",
    "resp_Fix_pk    = sinal_picos( resp_full[90001:150000], prominence=0.5 )       #% 4 min Fix\n",
    "resp_pe_BB_pk  = sinal_picos( resp_full[225001:315000], prominence=0.5 )    #% Apos 5 min para equilibrio hemodin?mico, 6 min BB\n",
    "resp_pe_Fix_pk = sinal_picos( resp_full[315001:], prominence=0.5 )         #% 4 min Fix\n",
    "\n",
    "ecg_BB_pk     = sinal_picos( ecg_full[0:360000], prominence=1 )             #% 6 min Broad Band\n",
    "ecg_Fix_pk    = sinal_picos( ecg_full[360000:600000], prominence=1 )       #% 4 min Fix\n",
    "ecg_pe_BB_pk  = sinal_picos( ecg_full[900000:1260000], prominence=1 )    #% Apos 5 min para equilibrio hemodin?mico, 6 min BB\n",
    "ecg_pe_Fix_pk = sinal_picos( ecg_full[1260000:], prominence=1 )         #% 4 min Fix\n",
    "\n",
    "ppg_BB_pk     = sinal_picos( ppg_full[0:90000], prominence=0 )             #% 6 min Broad Band\n",
    "ppg_Fix_pk    = sinal_picos( ppg_full[90001:150000], prominence=0 )       #% 4 min Fix\n",
    "ppg_pe_BB_pk  = sinal_picos( ppg_full[225001:315000], prominence=0 )    #% Apos 5 min para equilibrio hemodin?mico, 6 min BB\n",
    "ppg_pe_Fix_pk = sinal_picos( ppg_full[315001:], prominence=0 )         #% 4 min Fix\n",
    "\n",
    "\n",
    "plot_op    = ppg_pe_Fix\n",
    "plot_op_pk = ppg_pe_Fix_pk\n",
    "plot_op_x  = ppg_pe_Fix_x\n",
    "\n",
    "fig, ax1 = plt.subplots(1, 1)\n",
    "ax1.plot(plot_op_x, plot_op)\n",
    "ax1.plot(plot_op_x[plot_op_pk], plot_op[plot_op_pk], \"x\")\n",
    "\n",
    "ax1.plot(ecg_pe_Fix_x, ecg_pe_Fix)\n",
    "ax1.plot(ecg_pe_Fix_x[ecg_pe_Fix_pk], ecg_pe_Fix[ecg_pe_Fix_pk], \"x\")\n",
    "\n",
    "#plt.plot(ppg_BB_x, ppg_BB)\n",
    "#plt.plot(ppg_BB_x[ppg_BB_pk], ppg_BB[ppg_BB_pk], \"x\")"
   ]
  },
  {
   "cell_type": "code",
   "execution_count": 6,
   "metadata": {},
   "outputs": [],
   "source": [
    "# Calculo da frequencia do sinal\n",
    "\n",
    "RR_BB     = sinal_periodo(ecg_BB_x[ecg_BB_pk])\n",
    "RR_Fix    = sinal_periodo(ecg_Fix_x[ecg_Fix_pk])\n",
    "RR_pe_BB  = sinal_periodo(ecg_pe_BB_x[ecg_pe_BB_pk])\n",
    "RR_pe_Fix = sinal_periodo(ecg_pe_Fix_x[ecg_pe_Fix_pk])\n",
    "\n",
    "with np.errstate(divide='ignore'):\n",
    "    fig, ax = plt.subplots(4, 1)\n",
    "    \n",
    "    ax[0].set_ylabel('bpm - BB')\n",
    "    ax[0].plot( resp_BB_x, 25*resp_BB, label=\"Resp\" )\n",
    "    ax[0].plot( ecg_BB_x[ecg_BB_pk], 60/RR_BB, label=\"ECG\" )\n",
    "    ax[0].plot( ppg_BB_x[ppg_BB_pk], 60/sinal_periodo(ppg_BB_x[ppg_BB_pk]), label=\"PPG\" )\n",
    "    ax[0].legend()\n",
    "    \n",
    "    ax[1].set_ylabel('bpm - Fix')\n",
    "    ax[1].plot( resp_Fix_x, 25*resp_Fix, label=\"Resp\" )\n",
    "    ax[1].plot( ecg_Fix_x[ecg_Fix_pk], 60/RR_Fix, label=\"ECG\" )\n",
    "    ax[1].plot( ppg_Fix_x[ppg_Fix_pk], 60/sinal_periodo(ppg_Fix_x[ppg_Fix_pk]), label=\"PPG\" )\n",
    "    ax[1].legend()\n",
    "    \n",
    "    ax[2].set_ylabel('bpm - pe BB')\n",
    "    ax[2].plot( resp_pe_BB_x, 25*resp_pe_BB, label=\"Resp\" )\n",
    "    ax[2].plot( ecg_pe_BB_x[ecg_pe_BB_pk], 60/RR_pe_BB, label=\"ECG\" )\n",
    "    ax[2].plot( ppg_pe_BB_x[ppg_pe_BB_pk], 60/sinal_periodo(ppg_pe_BB_x[ppg_pe_BB_pk]), label=\"PPG\" )\n",
    "    ax[2].legend()\n",
    "    \n",
    "    ax[3].set_ylabel('bpm - pe Fix')\n",
    "    ax[3].plot( resp_pe_Fix_x, 25*resp_pe_Fix )\n",
    "    ax[3].plot( ecg_pe_Fix_x[ecg_pe_Fix_pk], 60/RR_pe_Fix, label=\"ECG\" )\n",
    "    ax[3].plot( ppg_pe_Fix_x[ppg_pe_Fix_pk], 60/sinal_periodo(ppg_pe_Fix_x[ppg_pe_Fix_pk]), label=\"PPG\" )\n",
    "    ax[3].legend()"
   ]
  },
  {
   "cell_type": "code",
   "execution_count": 7,
   "metadata": {
    "scrolled": true
   },
   "outputs": [
    {
     "data": {
      "text/plain": [
       "<matplotlib.legend.Legend at 0x7eff18a33590>"
      ]
     },
     "execution_count": 7,
     "metadata": {},
     "output_type": "execute_result"
    }
   ],
   "source": [
    "# PWTT\n",
    "\n",
    "pwtt_BB, pwtt_BB_x         = ppg_init(ppg_BB_x, ppg_BB, ecg_BB_x, ecg_BB)\n",
    "pwtt_Fix, pwtt_Fix_X       = ppg_init(ppg_Fix_x, ppg_Fix, ecg_Fix_x, ecg_Fix)\n",
    "pwtt_pe_BB, pwtt_pe_BB_x   = ppg_init(ppg_pe_BB_x, ppg_pe_BB, ecg_pe_BB_x, ecg_pe_BB)\n",
    "pwtt_pe_Fix, pwtt_pe_Fix_x = ppg_init(ppg_pe_Fix_x, ppg_pe_Fix, ecg_pe_Fix_x, ecg_pe_Fix, filtro = 1)\n",
    "\n",
    "fig, ax = plt.subplots(4, 1)\n",
    "\n",
    "ax[0].plot( pwtt_BB_x, pwtt_BB, label = \"BB\" )\n",
    "ax[0].legend()\n",
    "\n",
    "ax[1].plot( pwtt_Fix_X, pwtt_Fix, label = \"Fix\" )\n",
    "ax[1].legend()\n",
    "\n",
    "ax[2].plot( pwtt_pe_BB_x, pwtt_pe_BB, label = \"pe_BB\" )\n",
    "ax[2].legend()\n",
    "\n",
    "ax[3].plot( pwtt_pe_Fix_x, pwtt_pe_Fix, label = \"pe_Fix\" )\n",
    "ax[3].legend()"
   ]
  },
  {
   "cell_type": "code",
   "execution_count": 8,
   "metadata": {},
   "outputs": [
    {
     "data": {
      "text/plain": [
       "<matplotlib.legend.Legend at 0x7eff18952250>"
      ]
     },
     "execution_count": 8,
     "metadata": {},
     "output_type": "execute_result"
    }
   ],
   "source": [
    "RR_BB_p = RR_BB[0:-2]\n",
    "RR_BB_s = RR_BB[1:-1]\n",
    "\n",
    "RR_Fix_p = RR_Fix[0:-2]\n",
    "RR_Fix_s = RR_Fix[1:-1]\n",
    "\n",
    "RR_pe_BB_p = RR_pe_BB[0:-2]\n",
    "RR_pe_BB_s = RR_pe_BB[1:-1]\n",
    "\n",
    "RR_pe_Fix_p = RR_pe_Fix[0:-2]\n",
    "RR_pe_Fix_s = RR_pe_Fix[1:-1]\n",
    "\n",
    "# poincare da variacao cardiaca\n",
    "\n",
    "# fig, ax1 = plt.subplots(1, 1)\n",
    "# ax1.plot(RR_t[:RR_t.size-1], RR_amp[:RR_t.size-1], label = 'RR')\n",
    "# ax1.plot(PWTT_t[:PWTT_t.size-1], PWTT_amp[:PWTT_t.size-1], label = 'PWTT')\n",
    "# ax1.legend()\n",
    "# plt.show()\n",
    "\n",
    "fig, ax = plt.subplots(2, 2)\n",
    "\n",
    "ax[0,0].plot(RR_BB_p, RR_BB_s, '.', label=\"RR_BB\")\n",
    "ax[0,0].set_xlim(0, 1.5)\n",
    "ax[0,0].set_ylim(0, 1.5)\n",
    "ax[0,0].legend()\n",
    "\n",
    "ax[1,0].plot(RR_Fix_p, RR_Fix_s, '.', label=\"RR_Fix\")\n",
    "ax[1,0].set_xlim(0, 1.5)\n",
    "ax[1,0].set_ylim(0, 1.5)\n",
    "ax[1,0].legend()\n",
    "\n",
    "ax[0,1].plot(RR_pe_BB_p, RR_pe_BB_s, '.', label=\"RR_pe_BB\")\n",
    "ax[0,1].set_xlim(0, 1.5)\n",
    "ax[0,1].set_ylim(0, 1.5)\n",
    "ax[0,1].legend()\n",
    "\n",
    "ax[1,1].plot(RR_pe_Fix_p, RR_pe_Fix_s, '.', label=\"RR_pe_Fix\")\n",
    "ax[1,1].set_xlim(0, 1.5)\n",
    "ax[1,1].set_ylim(0, 1.5)\n",
    "ax[1,1].legend()\n",
    "\n",
    "# primeiro = PWTT_amp[0:PWTT_t.size-2]\n",
    "# segundo = PWTT_amp[1:PWTT_t.size-1]\n",
    "\n",
    "# fig, ax3 = plt.subplots(1, 1)\n",
    "# ax3.plot(primeiro, segundo, '.')\n",
    "# ax3.set_xlim(0, 1)\n",
    "# ax3.set_ylim(0, 1)\n",
    "# plt.show()"
   ]
  },
  {
   "cell_type": "code",
   "execution_count": 9,
   "metadata": {},
   "outputs": [
    {
     "data": {
      "text/plain": [
       "<matplotlib.legend.Legend at 0x7eff18863610>"
      ]
     },
     "execution_count": 9,
     "metadata": {},
     "output_type": "execute_result"
    }
   ],
   "source": [
    "# poincare da variacao cardiaca\n",
    "\n",
    "pwtt_BB_p = pwtt_BB[0:-2]\n",
    "pwtt_BB_s = pwtt_BB[1:-1]\n",
    "\n",
    "pwtt_Fix_p = pwtt_Fix[0:-2]\n",
    "pwtt_Fix_s = pwtt_Fix[1:-1]\n",
    "\n",
    "pwtt_pe_BB_p = pwtt_pe_BB[0:-2]\n",
    "pwtt_pe_BB_s = pwtt_pe_BB[1:-1]\n",
    "\n",
    "pwtt_pe_Fix_p = pwtt_pe_Fix[0:-2]\n",
    "pwtt_pe_Fix_s = pwtt_pe_Fix[1:-1]\n",
    "\n",
    "fig, ax = plt.subplots(2, 2)\n",
    "\n",
    "ax[0,0].plot(pwtt_BB_p, pwtt_BB_s, '.', label=\"PWTT_BB\")\n",
    "ax[0,0].set_xlim(0, 1.5)\n",
    "ax[0,0].set_ylim(0, 1.5)\n",
    "ax[0,0].legend()\n",
    "\n",
    "ax[1,0].plot(pwtt_Fix_p, pwtt_Fix_s, '.', label=\"PWTT_Fix\")\n",
    "ax[1,0].set_xlim(0, 1.5)\n",
    "ax[1,0].set_ylim(0, 1.5)\n",
    "ax[1,0].legend()\n",
    "\n",
    "ax[0,1].plot(pwtt_pe_BB_p, pwtt_pe_BB_s, '.', label=\"PWTT_pe_BB\")\n",
    "ax[0,1].set_xlim(0, 1.5)\n",
    "ax[0,1].set_ylim(0, 1.5)\n",
    "ax[0,1].legend()\n",
    "\n",
    "ax[1,1].plot(pwtt_pe_Fix_p, pwtt_pe_Fix_s, '.', label=\"PWTT_pe_Fix\")\n",
    "ax[1,1].set_xlim(0, 1.5)\n",
    "ax[1,1].set_ylim(0, 1.5)\n",
    "ax[1,1].legend()"
   ]
  },
  {
   "cell_type": "code",
   "execution_count": 10,
   "metadata": {},
   "outputs": [
    {
     "name": "stderr",
     "output_type": "stream",
     "text": [
      "/home/diesson/anaconda3/lib/python3.7/site-packages/scipy/sparse/linalg/matfuncs.py:716: LinAlgWarning: Ill-conditioned matrix (rcond=2.58268e-17): result may not be accurate.\n",
      "  return solve(Q, P)\n"
     ]
    },
    {
     "data": {
      "text/plain": [
       "[<matplotlib.lines.Line2D at 0x7eff18740fd0>]"
      ]
     },
     "execution_count": 10,
     "metadata": {},
     "output_type": "execute_result"
    }
   ],
   "source": [
    "P = 5\n",
    "RR_BB_2 = RR_BB - np.mean(RR_BB)\n",
    "pwtt_BB_2 = pwtt_BB - np.mean(pwtt_BB)\n",
    "mx_pwtt, veta_pwtt = gera_mx_veta(pwtt_BB_2, P, 0)\n",
    "mx_rr, veta_rr = gera_mx_veta(RR_BB_2, P)\n",
    "N = len(RR_BB)\n",
    "y = list()\n",
    "MDL = list()\n",
    "fig, ax = plt.subplots(2, 2)\n",
    "for p in range(P):\n",
    "    y.append(np.matmul(mx_rr[p], veta_rr[p]) + np.matmul(mx_pwtt[p], veta_pwtt[p]))\n",
    "    \n",
    "    e = RR_BB_2 - y[p]\n",
    "    MDL.append(np.var(e))\n",
    "    MDL[p] = N*np.log(MDL[p]) + p*np.log(N)\n",
    "\n",
    "ax[0][0].plot(RR_BB_2)\n",
    "ax[0][0].plot(y[p])\n",
    "ax[1][0].plot(e)\n",
    "ax[0][1].plot(MDL)\n",
    "\n",
    "\n",
    "\n",
    "system = ([1.0], veta_pwtt[2])\n",
    "t_imp, y_imp = signal.impulse(system)\n",
    "ax[1][1].plot(t_imp, y_imp)"
   ]
  }
 ],
 "metadata": {
  "kernelspec": {
   "display_name": "Python 3",
   "language": "python",
   "name": "python3"
  },
  "language_info": {
   "codemirror_mode": {
    "name": "ipython",
    "version": 3
   },
   "file_extension": ".py",
   "mimetype": "text/x-python",
   "name": "python",
   "nbconvert_exporter": "python",
   "pygments_lexer": "ipython3",
   "version": "3.7.4"
  }
 },
 "nbformat": 4,
 "nbformat_minor": 4
}
